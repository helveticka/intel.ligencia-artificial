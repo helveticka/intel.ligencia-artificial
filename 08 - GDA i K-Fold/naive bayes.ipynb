{
 "cells": [
  {
   "metadata": {},
   "cell_type": "markdown",
   "source": "# Exercici Pràctic: *Naive Bayes*",
   "id": "a984b27f0a78ef7c"
  },
  {
   "metadata": {},
   "cell_type": "code",
   "outputs": [],
   "execution_count": null,
   "source": [
    "from sklearn.datasets import load_iris\n",
    "from sklearn.tree import DecisionTreeClassifier\n",
    "from sklearn.model_selection import train_test_split, cross_val_score, KFold\n",
    "import numpy as np"
   ],
   "id": "920adacfb775a1e8"
  },
  {
   "metadata": {},
   "cell_type": "markdown",
   "source": [
    "## Carregam les dades: Iris\n",
    "\n",
    "El dataset Iris és un dels conjunts de dades més coneguts i utilitzats en el camp de l'aprenentatge automàtic i l'estadística. Va ser introduït per Ronald A. Fisher el 1936 en el seu treball sobre l'ús de l'anàlisi discriminant. \n",
    ".\n",
    "Característiques del dataset:\n",
    "\n",
    "* Nombre de mostres: 150\n",
    "\n",
    "* Nombre de característiques: 4 variables numèriques contínues:\n",
    "    - Llargada del sèpal (sepal length).\n",
    "    - Amplada del sèpal (sepal width).\n",
    "    - Llargada del pètal (petal length).\n",
    "    - Amplada del pètal (petal width).\n",
    "\n",
    "* Nombre de classes: 3 espècies de flors d'iris:\n",
    "    - Iris-setosa\n",
    "    - Iris-versicolor\n",
    "    - Iris-virginica\n",
    "Cada classe conté 50 mostres"
   ],
   "id": "adb3cf0f70822155"
  },
  {
   "metadata": {},
   "cell_type": "code",
   "outputs": [],
   "execution_count": null,
   "source": [
    "# Càrrega del dataset\n",
    "iris = load_iris()\n",
    "X, y = iris.data, iris.target"
   ],
   "id": "16ab6dee8220bfd9"
  },
  {
   "metadata": {},
   "cell_type": "markdown",
   "source": [
    "## Tasca\n",
    "\n",
    "1. Entrenar un model de *Naive Bayes* amb el dataset *Iris*, amb la divisió en entrenament i test.\n",
    "2. Entrenar un model de *Naive Bayes* amb el dataset *Iris*, amb *K-fold cross validation*.\n",
    "3. Comparar els resultats d'ambdós."
   ],
   "id": "ba2159ab20ecba08"
  },
  {
   "metadata": {},
   "cell_type": "code",
   "outputs": [],
   "execution_count": null,
   "source": [
    "from sklearn.naive_bayes import GaussianNB\n",
    "\n",
    "#TODO"
   ],
   "id": "9c00abdc14547b98"
  }
 ],
 "metadata": {
  "kernelspec": {
   "display_name": "Python 3",
   "language": "python",
   "name": "python3"
  },
  "language_info": {
   "codemirror_mode": {
    "name": "ipython",
    "version": 2
   },
   "file_extension": ".py",
   "mimetype": "text/x-python",
   "name": "python",
   "nbconvert_exporter": "python",
   "pygments_lexer": "ipython2",
   "version": "2.7.6"
  }
 },
 "nbformat": 4,
 "nbformat_minor": 5
}
